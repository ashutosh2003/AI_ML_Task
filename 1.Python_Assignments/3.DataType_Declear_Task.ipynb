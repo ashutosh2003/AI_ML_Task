{
 "cells": [
  {
   "cell_type": "markdown",
   "id": "59e374f8",
   "metadata": {},
   "source": [
    "<h3>Q1. What are Data Structures? List some of data structures and their use in real world application</h3>"
   ]
  },
  {
   "cell_type": "markdown",
   "id": "cea1b6bd",
   "metadata": {},
   "source": [
    "Data structure is defined as a particular way of storing and organizing data in our devices to use the data efficiently and effectively.\n",
    "some data structures are arrays,linked lists,trees, graphs etc. \n",
    "application in real world:\n",
    "Book titles in a Library Management Systems.\n",
    "Online ticket booking.\n",
    "Contacts on a cell phone."
   ]
  },
  {
   "cell_type": "markdown",
   "id": "f0e718c4",
   "metadata": {},
   "source": [
    "<h3>Q3. Create a list data type and store names of your friends in it (at least 5), check out what are methods available in list data type, try to figure out their working using help function in python.</h3>"
   ]
  },
  {
   "cell_type": "code",
   "execution_count": 1,
   "id": "26a2f8cc",
   "metadata": {},
   "outputs": [
    {
     "name": "stdout",
     "output_type": "stream",
     "text": [
      "['__add__', '__class__', '__class_getitem__', '__contains__', '__delattr__', '__delitem__', '__dir__', '__doc__', '__eq__', '__format__', '__ge__', '__getattribute__', '__getitem__', '__gt__', '__hash__', '__iadd__', '__imul__', '__init__', '__init_subclass__', '__iter__', '__le__', '__len__', '__lt__', '__mul__', '__ne__', '__new__', '__reduce__', '__reduce_ex__', '__repr__', '__reversed__', '__rmul__', '__setattr__', '__setitem__', '__sizeof__', '__str__', '__subclasshook__', 'append', 'clear', 'copy', 'count', 'extend', 'index', 'insert', 'pop', 'remove', 'reverse', 'sort']\n",
      "Help on NoneType object:\n",
      "\n",
      "class NoneType(object)\n",
      " |  Methods defined here:\n",
      " |  \n",
      " |  __bool__(self, /)\n",
      " |      True if self else False\n",
      " |  \n",
      " |  __repr__(self, /)\n",
      " |      Return repr(self).\n",
      " |  \n",
      " |  ----------------------------------------------------------------------\n",
      " |  Static methods defined here:\n",
      " |  \n",
      " |  __new__(*args, **kwargs) from builtins.type\n",
      " |      Create and return a new object.  See help(type) for accurate signature.\n",
      "\n"
     ]
    }
   ],
   "source": [
    "name = ['rishit', 'aryan', 'swapnil', 'kartik','pranjal']\n",
    "print(dir(name))\n",
    "help(name.extend(['shubaan','deepak']))"
   ]
  },
  {
   "cell_type": "markdown",
   "id": "4cbfadcf",
   "metadata": {},
   "source": [
    "<h3>Q4. What is difference between ordered data type and unordered data type</h3>"
   ]
  },
  {
   "cell_type": "markdown",
   "id": "11d54913",
   "metadata": {},
   "source": [
    "<b>Ordered Data</b>- types are sequential data types on which we can use indexing and slicing. Ex - list, tuple.\n",
    "\n",
    "<b>Unordered Data</b>- types are non sequential and we can’t use indexing or slicing on them. Ex - set, dictionary."
   ]
  },
  {
   "cell_type": "markdown",
   "id": "3dc80b7c",
   "metadata": {},
   "source": [
    "<h3>Q5. Q5.Write down types of each value given? (In python)</h3>"
   ]
  },
  {
   "cell_type": "markdown",
   "id": "e786c179",
   "metadata": {},
   "source": [
    "<ol>\n",
    "<li>100 --> <b>*Integer*<b> </li>\n",
    "<li>105.5 --> <b>*Float*<b> </li>\n",
    "<li>192.56j  --> <b>*Complex*<b> </li>\n",
    "<li>10+6j  --> <b>*Complexr*<b> </li>  \n",
    "<li>'10'  --> <b>*String*<b> </li>\n",
    "<li>'Hello world'--> <b>*String*<b> </li>\n",
    "<li>[ 10, 20, 50, 100] --> <b>*List*<b> </li>\n",
    "<li>{'name': 'sachin','age': 24, 'language': 'python'} --> <b>*Dictionary*<b> </li>\n",
    "  \n",
    "\n",
    "</ol>"
   ]
  },
  {
   "cell_type": "code",
   "execution_count": null,
   "id": "681bfab9",
   "metadata": {},
   "outputs": [],
   "source": []
  }
 ],
 "metadata": {
  "kernelspec": {
   "display_name": "Python 3 (ipykernel)",
   "language": "python",
   "name": "python3"
  },
  "language_info": {
   "codemirror_mode": {
    "name": "ipython",
    "version": 3
   },
   "file_extension": ".py",
   "mimetype": "text/x-python",
   "name": "python",
   "nbconvert_exporter": "python",
   "pygments_lexer": "ipython3",
   "version": "3.10.9"
  }
 },
 "nbformat": 4,
 "nbformat_minor": 5
}
