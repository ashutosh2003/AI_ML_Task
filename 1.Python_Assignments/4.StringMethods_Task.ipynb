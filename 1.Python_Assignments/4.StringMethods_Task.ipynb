{
 "cells": [
  {
   "cell_type": "markdown",
   "id": "420810c7",
   "metadata": {},
   "source": [
    "<h3>Q1. Explore split, strip, replace, center, title methods of string data type in python</h3>"
   ]
  },
  {
   "cell_type": "code",
   "execution_count": 1,
   "id": "8e17c44e",
   "metadata": {},
   "outputs": [
    {
     "name": "stdout",
     "output_type": "stream",
     "text": [
      "['hello', 'friends,', 'i', 'am', 'ashutosh']\n",
      "hello friends, i am ashutosh\n",
      "     hello friends, i am deepak     \n",
      "                                    hello friends, i am ashutosh                                    \n",
      "     Hello Friends, I Am Ashutosh     \n"
     ]
    }
   ],
   "source": [
    "str = '     hello friends, i am ashutosh     '\n",
    "\n",
    "print(str.split()) #Return a list of the words in the string, using separated as the delimiter string\n",
    "\n",
    "print(str.strip()) #delete all the leading and trailing spaces\n",
    "\n",
    "print(str.replace('ashutosh','deepak')) #replace the substring with a new substring in the string.\n",
    "\n",
    "print(str.center(100)) #center align the string, using a specified character\n",
    "\n",
    "print(str.title()) #returns a string where the first character in every word is upper case."
   ]
  },
  {
   "cell_type": "markdown",
   "id": "ae140c87",
   "metadata": {},
   "source": [
    "<h3>Q2. Explore append, pop, remove, sort methods of list data type </h3>"
   ]
  },
  {
   "cell_type": "code",
   "execution_count": 3,
   "id": "0b6976f4",
   "metadata": {},
   "outputs": [
    {
     "name": "stdout",
     "output_type": "stream",
     "text": [
      "[22, 10, 5, 23, 14, 29]\n",
      "[22, 10, 5, 23, 14]\n",
      "[22, 5, 23, 14]\n",
      "[5, 14, 22, 23]\n"
     ]
    }
   ],
   "source": [
    "data = [22, 10, 5, 23, 14]\n",
    "\n",
    "data.append(29) #add item from the last\n",
    "print(data)\n",
    "\n",
    "data.pop() #delete item from the last\n",
    "print(data)\n",
    "\n",
    "data.remove(10) #remove the matching item from the list\n",
    "print(data)\n",
    "\n",
    "data.sort() #arrange item in ascending or descending order\n",
    "print(data)"
   ]
  },
  {
   "cell_type": "raw",
   "id": "7b62b357",
   "metadata": {},
   "source": []
  },
  {
   "cell_type": "markdown",
   "id": "68f765be",
   "metadata": {},
   "source": [
    "<h3>Q3. Create 5 real time list to store some useful information in python. Eg -> Language = [ ‘java’, ‘c’, ‘c++’, ‘ruby’ ]</h3>"
   ]
  },
  {
   "cell_type": "markdown",
   "id": "7bdc923d",
   "metadata": {},
   "source": [
    "language=['java','C','C++','sql']\n",
    "sub=['software engineering','big data','AI','network security']\n",
    "books=['The one thing','Eat that frog','Deep Work','Power','The alchemist']\n",
    "operating_system=['macos','windows','android','ios']\n",
    "fruits=['banana','apple','grapes','peach','mango']"
   ]
  },
  {
   "cell_type": "markdown",
   "id": "0a831bce",
   "metadata": {},
   "source": [
    "<h3>Q4. What is difference between mutable and immutable data types in python</h3>"
   ]
  },
  {
   "cell_type": "markdown",
   "id": "9b17ec6e",
   "metadata": {},
   "source": [
    "An object whose internal state can be changed is called Mutable data type.\n",
    "\n",
    "Immutable data type doesn’t allow any change in the object once it has been created."
   ]
  },
  {
   "cell_type": "markdown",
   "id": "b5d7f8ce",
   "metadata": {},
   "source": [
    "<h3>Q5. What are identifiers, list rules of identifiers in python</h3>"
   ]
  },
  {
   "cell_type": "markdown",
   "id": "3c6a6d0b",
   "metadata": {},
   "source": [
    "Identifiers are used to store an object of a data type class.\n"
   ]
  },
  {
   "cell_type": "markdown",
   "id": "e6df1210",
   "metadata": {},
   "source": [
    "Identifiers are case sensitive. Identifiers cannot be a keyword. It cannot start with a number. It can have undersscore.\n",
    "\n"
   ]
  },
  {
   "cell_type": "markdown",
   "id": "0c3e6d71",
   "metadata": {},
   "source": [
    "<"
   ]
  },
  {
   "cell_type": "code",
   "execution_count": null,
   "id": "dee8353c",
   "metadata": {},
   "outputs": [],
   "source": []
  }
 ],
 "metadata": {
  "kernelspec": {
   "display_name": "Python 3 (ipykernel)",
   "language": "python",
   "name": "python3"
  },
  "language_info": {
   "codemirror_mode": {
    "name": "ipython",
    "version": 3
   },
   "file_extension": ".py",
   "mimetype": "text/x-python",
   "name": "python",
   "nbconvert_exporter": "python",
   "pygments_lexer": "ipython3",
   "version": "3.10.9"
  }
 },
 "nbformat": 4,
 "nbformat_minor": 5
}
