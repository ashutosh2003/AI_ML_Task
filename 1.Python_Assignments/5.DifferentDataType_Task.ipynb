{
 "cells": [
  {
   "cell_type": "markdown",
   "id": "bda28b4a",
   "metadata": {},
   "source": [
    "<h3>Q1.  What is difference between shallow copy and deep copy</h3>"
   ]
  },
  {
   "cell_type": "markdown",
   "id": "37b03668",
   "metadata": {},
   "source": [
    "<b>Shallow copy</b>-\n",
    "A shallow copy creates a new object and then inserts references to the objects found in the original.\n",
    "The copied object is a new container, but the elements inside it still refer to the same objects as the original.\n",
    "Modifying the original object may affect the copied object, as they share the same references.\n",
    "Shallow copy can be performed using the copy() method or the slice operator [:].\n",
    "\n"
   ]
  },
  {
   "cell_type": "markdown",
   "id": "5da1a036",
   "metadata": {},
   "source": [
    "<b>Deep copy</b>-A deep copy creates a new object and recursively inserts copies of the objects found in the original.\n",
    "Both the outer container and the nested objects are copied, resulting in completely independent objects.\n",
    "Modifying the original object does not affect the copied object, as they have separate memory locations.\n",
    "Deep copy can be performed using the deepcopy() method from the copy module.\n"
   ]
  },
  {
   "cell_type": "markdown",
   "id": "21d1830a",
   "metadata": {},
   "source": [
    "<h3>Q2.You want to create a library management application, you need to store data about books, students in your program, how will you store data inside python using list? Create some lists with fake data to store information about library management.</h3>"
   ]
  },
  {
   "cell_type": "code",
   "execution_count": 21,
   "id": "9dacb848",
   "metadata": {},
   "outputs": [],
   "source": [
    "books = [\n",
    "    {'title': 'Python Crash Course','author': 'Eric Matthes','bkno': '978-1593276034','quantity': 1},\n",
    "    {'title': 'The Great Gatsby','author': 'F. Scott Fitzgerald','bkno': '978-0743273565','quantity': 13},\n",
    "    {'title': 'To Kill a Mockingbird','author': 'Harper Lee','bkno': '978-0060935467','quantity': 7}]\n",
    "\n",
    "\n",
    "students = [\n",
    "    {'name': 'Ashutosh', 'id': 2667, 'books_taken': ['Python Crash Course', 'TO KILL A MOCKING BIRD']},\n",
    "    {'name': 'Rishit', 'id': 9076, 'books_taken': ['To Kill a Mockingbird']},\n",
    "    {'name': 'Aryan', 'id': 4333, 'books_taken': ['Python Crash Course']},\n",
    "]"
   ]
  },
  {
   "cell_type": "markdown",
   "id": "76e234c0",
   "metadata": {},
   "source": [
    "<h3>Q3.What is the difference between an expression and a statement </h3>"
   ]
  },
  {
   "cell_type": "markdown",
   "id": "858f5bed",
   "metadata": {},
   "source": [
    "<b>Expression</b>-An expression is a piece of code that produces a value when evaluated.\n",
    "It can be as simple as a single value or involve complex combinations of operators, variables, and function calls.-\n",
    "\n",
    "Expressions can be used as part of larger expressions, as arguments to functions, or to assign values to variables.\n",
    "\n",
    "<b>Statement</b>-A statement is a unit of code that performs an action or a sequence of actions.\n",
    "It can include expressions but is not necessarily an expression itself.\n",
    "Statements are typically used to control the flow of a program, perform assignments, make decisions, or repeat actions."
   ]
  },
  {
   "cell_type": "markdown",
   "id": "04e2a38f",
   "metadata": {},
   "source": [
    "<h3> Q4. Define following </h3>"
   ]
  },
  {
   "cell_type": "markdown",
   "id": "aa53a49f",
   "metadata": {},
   "source": [
    "<b>Atomic data types / Primary data types </b>\n",
    "\n",
    "<b>Secondary data type / User Defined Data Type </b>"
   ]
  },
  {
   "cell_type": "markdown",
   "id": "e30e1820",
   "metadata": {},
   "source": [
    "<b>Atomic data types / Primary data types </b>-tomic data types, also known as primary data types, are the fundamental built-in data types provided by a programming language.\n",
    "\n",
    "These data types represent basic and indivisible units of data that cannot be further broken down into simpler components.\n",
    "\n",
    "Atomic data types in Python include integers (int), floating-point numbers (float), booleans (bool), and strings (str)."
   ]
  },
  {
   "cell_type": "markdown",
   "id": "010b6a7e",
   "metadata": {},
   "source": [
    "<b>Secondary data type / User Defined Data Type </b>-"
   ]
  },
  {
   "cell_type": "markdown",
   "id": "06ce9e6b",
   "metadata": {},
   "source": [
    "A secondary data type, also known as a user-defined data type, is a data type that is created by the programmer using the built-in data types or other user-defined data types.\n",
    "\n",
    "It is derived from or composed of one or more primary data types, allowing for the creation of complex and custom data structures\n",
    "\n",
    "Examples of secondary data types in Python can include lists, dictionaries, tuples, sets, and custom-defined classes."
   ]
  },
  {
   "cell_type": "markdown",
   "id": "c4a3d35e",
   "metadata": {},
   "source": [
    "<h3>Q5. What is UDF</h3>"
   ]
  },
  {
   "cell_type": "markdown",
   "id": "898e6fb7",
   "metadata": {},
   "source": [
    "UDF stands for User-Defined Function. In programming, a User-Defined Function refers to a function that is defined by the programmer rather than being built-in or provided by the programming language itself."
   ]
  },
  {
   "cell_type": "code",
   "execution_count": null,
   "id": "39afcce5",
   "metadata": {},
   "outputs": [],
   "source": []
  }
 ],
 "metadata": {
  "kernelspec": {
   "display_name": "Python 3 (ipykernel)",
   "language": "python",
   "name": "python3"
  },
  "language_info": {
   "codemirror_mode": {
    "name": "ipython",
    "version": 3
   },
   "file_extension": ".py",
   "mimetype": "text/x-python",
   "name": "python",
   "nbconvert_exporter": "python",
   "pygments_lexer": "ipython3",
   "version": "3.10.9"
  }
 },
 "nbformat": 4,
 "nbformat_minor": 5
}
