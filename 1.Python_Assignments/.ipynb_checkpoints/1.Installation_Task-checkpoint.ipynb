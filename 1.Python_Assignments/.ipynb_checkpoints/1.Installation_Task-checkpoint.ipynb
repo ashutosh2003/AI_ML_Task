{
 "cells": [
  {
   "cell_type": "markdown",
   "id": "9bed8a5f",
   "metadata": {},
   "source": [
    "<h1>Task- 1 Installation Task</h1>"
   ]
  },
  {
   "cell_type": "markdown",
   "id": "d668f988",
   "metadata": {},
   "source": [
    "<h3>Q.2 List Some Mega Projects Hosted in Python</h3>"
   ]
  },
  {
   "cell_type": "markdown",
   "id": "a2e7b79a",
   "metadata": {},
   "source": [
    "<ul>\n",
    "<li>Database Projects: Management Systems (Library, Hotel, Hospital, School)</li>\n",
    "<li>ML Projects: Classification</li>\n",
    "<li>AI Projects: Chatbots, face detection and recognition, speech recognition, Security</li>\n",
    "<li>Data Science Projects: Global Terrorism Analysis, Call Data Record Analysis</li>\n",
    "</ul>"
   ]
  },
  {
   "cell_type": "markdown",
   "id": "39079aec",
   "metadata": {},
   "source": [
    "<h3>Q3. List Python Libraries Used in Different IT Domains</h3>"
   ]
  },
  {
   "cell_type": "markdown",
   "id": "8cdae35a",
   "metadata": {},
   "source": [
    "<p>Pandas, numpy, matplotlib, tkinter, sklearn, tensorflow</p>"
   ]
  },
  {
   "cell_type": "markdown",
   "id": "39509a60",
   "metadata": {},
   "source": [
    "<h3>Q.3 Create a Program and execute a script in Python </h3>"
   ]
  },
  {
   "cell_type": "code",
   "execution_count": 28,
   "id": "f64dc122",
   "metadata": {},
   "outputs": [
    {
     "name": "stdout",
     "output_type": "stream",
     "text": [
      "Hello World\n",
      "Sum is : 50\n"
     ]
    }
   ],
   "source": [
    "print(\"Hello World\")\n",
    "a = 45\n",
    "b = 5\n",
    "c = a+b\n",
    "print(\"Sum is :\", c)"
   ]
  },
  {
   "cell_type": "code",
   "execution_count": null,
   "id": "e28e8887",
   "metadata": {},
   "outputs": [],
   "source": []
  },
  {
   "cell_type": "code",
   "execution_count": null,
   "id": "ae9ae67d",
   "metadata": {},
   "outputs": [],
   "source": []
  },
  {
   "cell_type": "code",
   "execution_count": null,
   "id": "1d3e3c38",
   "metadata": {},
   "outputs": [],
   "source": []
  },
  {
   "cell_type": "code",
   "execution_count": null,
   "id": "72c0d6c4",
   "metadata": {},
   "outputs": [],
   "source": []
  }
 ],
 "metadata": {
  "kernelspec": {
   "display_name": "Python 3 (ipykernel)",
   "language": "python",
   "name": "python3"
  },
  "language_info": {
   "codemirror_mode": {
    "name": "ipython",
    "version": 3
   },
   "file_extension": ".py",
   "mimetype": "text/x-python",
   "name": "python",
   "nbconvert_exporter": "python",
   "pygments_lexer": "ipython3",
   "version": "3.10.9"
  }
 },
 "nbformat": 4,
 "nbformat_minor": 5
}
