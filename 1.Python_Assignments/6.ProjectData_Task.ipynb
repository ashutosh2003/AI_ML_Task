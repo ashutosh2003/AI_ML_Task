{
 "cells": [
  {
   "cell_type": "markdown",
   "id": "e1bdcce9",
   "metadata": {},
   "source": [
    "<h3>1.Write down 10 projects ideas you want to implement using python </h3>"
   ]
  },
  {
   "cell_type": "markdown",
   "id": "bfa0c5e0",
   "metadata": {},
   "source": [
    "<ol type=\"a\">\n",
    "<li>Fingerprint sensor</li>\n",
    "<li>Timeline Analysis</li>\n",
    "<li>Fun Quize Games</li>\n",
    "<li>Network Analysis</li>\n",
    "<li>Movie Recommendation System</li>\n",
    "<li>Food Nutrition App </li>\n",
    "<li>Patient Health Chart Sheet</li>\n",
    "<li>Traffic Light Regulation</li>\n",
    "<li>Developing Chatbot</li>\n",
    "<li>Automation and Scripting</li>\n",
    "</ol>"
   ]
  },
  {
   "cell_type": "markdown",
   "id": "d2162eee",
   "metadata": {},
   "source": [
    "<h3>2.Create at list 5 objects using list, dictionary, it will be good if you store realistic data  </h3>"
   ]
  },
  {
   "cell_type": "code",
   "execution_count": 5,
   "id": "585bd7e5",
   "metadata": {},
   "outputs": [],
   "source": [
    "names=['rishit','sushma','rm','jimin','charlie','shawn']\n",
    "\n",
    "books = {\n",
    "    'book1': {\n",
    "        'title': 'The Catcher in the Rye',\n",
    "        'author': 'J.D. Salinger',\n",
    "        'bkno': '9780316769488',\n",
    "        'quantity': 3\n",
    "    },\n",
    "    'book2': {\n",
    "        'title': '1984',\n",
    "        'author': 'George Orwell',\n",
    "        'bkno': '9780451524935',\n",
    "        'quantity': 5\n",
    "    },\n",
    "    'book3': {\n",
    "        'title': 'Pride and Prejudice',\n",
    "        'author': 'Jane Austen',\n",
    "        'bkno': '9780141439518',\n",
    "        'quantity': 2\n",
    "    },\n",
    "    'book4': {\n",
    "        'title': 'To Kill a Mockingbird',\n",
    "        'author': 'Harper Lee',\n",
    "        'bkno': '9780060935467',\n",
    "        'quantity': 4\n",
    "    },\n",
    "    'book5': {\n",
    "        'title': 'The Lord of the Rings',\n",
    "        'author': 'J.R.R. Tolkien',\n",
    "        'bkno': '9780544003415',\n",
    "        'quantity': 6\n",
    "    }\n",
    "}"
   ]
  },
  {
   "cell_type": "markdown",
   "id": "3238a038",
   "metadata": {},
   "source": [
    "<h3> 3.What is duck typing in python, what are Dunder or special methods</h3>"
   ]
  },
  {
   "cell_type": "markdown",
   "id": "0ed8b7b2",
   "metadata": {},
   "source": [
    "<b>Duck typing </b>-is a programming concept in Python that focuses on the behavior of an object rather than its specific type or class. In Python, this means that the suitability of an object for a particular operation is determined by whether the object supports the required behavior, rather than its explicit type. For example, if an object can perform the necessary methods or operations expected of it, it can be considered suitable for a given context, regardless of its actual class or type."
   ]
  },
  {
   "cell_type": "markdown",
   "id": "a72aae5d",
   "metadata": {},
   "source": [
    "<b>Dunder</b>-Dunder methods, also known as special methods or magic methods, are predefined methods in Python that have double underscores (underscores both at the beginning and end of the method name). These special methods allow classes to define or customize various built-in behaviors and operations. For example, the init method is a special method used to initialize an object when it is created."
   ]
  },
  {
   "cell_type": "markdown",
   "id": "679a1999",
   "metadata": {},
   "source": [
    "<h3> 4.What are operators? How many types of operators are there in python</h3>"
   ]
  },
  {
   "cell_type": "markdown",
   "id": "84e11d74",
   "metadata": {},
   "source": [
    "Operators are symbols or special characters that perform operations on one or more operands (values or variables). Operators allow you to manipulate data and perform computations in your code.\n",
    "\n",
    "<b>Mainly there are 7 types of operators in python</b>\n",
    "Arithmetic Operators, Assignment Operators, Comparison Operators, Logical Operators, Bitwise Operators, Membership Operators, Identity Operators,"
   ]
  },
  {
   "cell_type": "code",
   "execution_count": null,
   "id": "49e30db5",
   "metadata": {},
   "outputs": [],
   "source": []
  }
 ],
 "metadata": {
  "kernelspec": {
   "display_name": "Python 3 (ipykernel)",
   "language": "python",
   "name": "python3"
  },
  "language_info": {
   "codemirror_mode": {
    "name": "ipython",
    "version": 3
   },
   "file_extension": ".py",
   "mimetype": "text/x-python",
   "name": "python",
   "nbconvert_exporter": "python",
   "pygments_lexer": "ipython3",
   "version": "3.10.9"
  }
 },
 "nbformat": 4,
 "nbformat_minor": 5
}
